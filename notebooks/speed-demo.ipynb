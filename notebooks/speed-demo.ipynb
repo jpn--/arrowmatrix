{
 "cells": [
  {
   "cell_type": "code",
   "execution_count": 1,
   "metadata": {
    "ExecuteTime": {
     "end_time": "2020-10-27T18:50:04.907403Z",
     "start_time": "2020-10-27T18:50:04.326547Z"
    }
   },
   "outputs": [
    {
     "name": "stdout",
     "output_type": "stream",
     "text": [
      "Net 107 MB, Total 107 MB\n"
     ]
    }
   ],
   "source": [
    "import os\n",
    "import numpy as np\n",
    "import pandas as pd\n",
    "import matplotlib.pyplot as plt\n",
    "import arrowmatrix as amx\n",
    "from arrowmatrix.util import resource_usage, si_units, timing"
   ]
  },
  {
   "cell_type": "markdown",
   "metadata": {},
   "source": [
    "# Arrowmatrix Demo\n",
    "\n",
    "Welcome to our speed demo!  In this notebook we will demonstrate the speed\n",
    "of the new arrowmatrix formats, and compare against the speed and memory\n",
    "usage for openmatrix using the ActivitySim framework."
   ]
  },
  {
   "cell_type": "markdown",
   "metadata": {},
   "source": [
    "To run this notebook, you need the MTC's large 'skims.omx' file. You'll also need\n",
    "this same data transformed to two different file formats: parquet and feather.  The\n",
    "following cell will do this for you, assuming you have a working internet connection."
   ]
  },
  {
   "cell_type": "code",
   "execution_count": 2,
   "metadata": {
    "ExecuteTime": {
     "end_time": "2020-10-27T18:50:04.912312Z",
     "start_time": "2020-10-27T18:50:04.909198Z"
    }
   },
   "outputs": [],
   "source": [
    "if not os.path.exists('data/mtc_full_skims.omx'):\n",
    "    import urllib.request\n",
    "    url = 'https://github.com/RSGInc/activitysim_resources/raw/master/mtc_data_full/skims.omx'\n",
    "    urllib.request.urlretrieve(url, 'data/mtc_full_skims.omx')\n",
    "if not os.path.exists('data/mtc_full_skims.pmx'):\n",
    "    amx.ParquetMatrix.from_hdf5('data/mtc_full_skims.omx', 'data/mtc_full_skims.pmx')\n",
    "if not os.path.exists('data/mtc_full_skims.fmx'):\n",
    "    amx.FeatherMatrix.from_arrow(\n",
    "        amx.ParquetMatrix('data/mtc_full_skims.pmx'), \n",
    "        'data/mtc_full_skims.fmx',\n",
    "        compression='uncompressed',\n",
    "    )"
   ]
  },
  {
   "cell_type": "code",
   "execution_count": 3,
   "metadata": {
    "ExecuteTime": {
     "end_time": "2020-10-27T18:50:05.207274Z",
     "start_time": "2020-10-27T18:50:04.916219Z"
    }
   },
   "outputs": [],
   "source": [
    "from activitysim.abm.tables.skims import skim_dict\n",
    "from activitysim.core import skim"
   ]
  },
  {
   "cell_type": "code",
   "execution_count": 4,
   "metadata": {
    "ExecuteTime": {
     "end_time": "2020-10-27T18:50:05.210586Z",
     "start_time": "2020-10-27T18:50:05.208563Z"
    }
   },
   "outputs": [],
   "source": [
    "settings = {\n",
    "    'skims_file': 'mtc_full_skims.omx',\n",
    "    'skim_time_periods': {\n",
    "        'labels': ['EA', 'AM', 'MD', 'PM', 'EV']\n",
    "    },\n",
    "}"
   ]
  },
  {
   "cell_type": "code",
   "execution_count": 5,
   "metadata": {
    "ExecuteTime": {
     "end_time": "2020-10-27T18:50:05.531377Z",
     "start_time": "2020-10-27T18:50:05.211988Z"
    }
   },
   "outputs": [],
   "source": [
    "TEST_SIZE = 10_000_000\n",
    "taz_values = np.arange(1,1476)\n",
    "otaz = np.random.choice(taz_values, size=TEST_SIZE, replace=True)\n",
    "dtaz = np.random.choice(taz_values, size=TEST_SIZE, replace=True)"
   ]
  },
  {
   "cell_type": "markdown",
   "metadata": {},
   "source": [
    "# Open Matrix (ActivitySim)"
   ]
  },
  {
   "cell_type": "code",
   "execution_count": 6,
   "metadata": {
    "ExecuteTime": {
     "end_time": "2020-10-27T18:50:51.381890Z",
     "start_time": "2020-10-27T18:50:05.532733Z"
    }
   },
   "outputs": [
    {
     "name": "stdout",
     "output_type": "stream",
     "text": [
      "45.8 s: Net 7.11 GB, Total 7.45 GB\n"
     ]
    }
   ],
   "source": [
    "with resource_usage:\n",
    "    asim_skims = skim_dict(settings) # loads all skim data into memory"
   ]
  },
  {
   "cell_type": "markdown",
   "metadata": {
    "ExecuteTime": {
     "end_time": "2020-10-22T12:20:08.251496Z",
     "start_time": "2020-10-22T12:20:08.141270Z"
    }
   },
   "source": [
    "It takes some time to load, and a fair bit of RAM.  Now we can load values from one of the skim tables,\n",
    "which is quick and easy, and only uses enough extra memory \n",
    "to store the values we have collected."
   ]
  },
  {
   "cell_type": "code",
   "execution_count": 7,
   "metadata": {
    "ExecuteTime": {
     "end_time": "2020-10-27T18:50:52.123649Z",
     "start_time": "2020-10-27T18:50:51.385527Z"
    }
   },
   "outputs": [
    {
     "name": "stdout",
     "output_type": "stream",
     "text": [
      "668 ms: Net 277 MB, Total 7.73 GB\n"
     ]
    }
   ],
   "source": [
    "with resource_usage:\n",
    "    asim_data1 = asim_skims.get('DISTBIKE').get(otaz,dtaz)"
   ]
  },
  {
   "cell_type": "markdown",
   "metadata": {},
   "source": [
    "# Parquet Matrix\n",
    "\n",
    "Contrast that with the first of two formats of arrow matrix, ParquetMatrix.  \n",
    "As we did above using the `skims_dict`, let's open the matrix reference itself first."
   ]
  },
  {
   "cell_type": "code",
   "execution_count": 8,
   "metadata": {
    "ExecuteTime": {
     "end_time": "2020-10-27T18:50:52.223960Z",
     "start_time": "2020-10-27T18:50:52.126761Z"
    }
   },
   "outputs": [
    {
     "name": "stdout",
     "output_type": "stream",
     "text": [
      "26.9 ms: Net 1e+03 KB, Total 7.73 GB\n"
     ]
    }
   ],
   "source": [
    "with resource_usage:\n",
    "    pqmx = amx.ParquetMatrix('data/mtc_full_skims.pmx')"
   ]
  },
  {
   "cell_type": "markdown",
   "metadata": {},
   "source": [
    "The matrix object can be created almost instantly because it\n",
    "doesn't load all the data into RAM, just the schema and metadata.\n",
    "The actual data remains on disk, waiting patiently for us to read\n",
    "it later.  So let's do that!"
   ]
  },
  {
   "cell_type": "code",
   "execution_count": 9,
   "metadata": {
    "ExecuteTime": {
     "end_time": "2020-10-27T18:50:52.556912Z",
     "start_time": "2020-10-27T18:50:52.225857Z"
    }
   },
   "outputs": [
    {
     "name": "stdout",
     "output_type": "stream",
     "text": [
      "264 ms: Net 39.8 MB, Total 7.77 GB\n"
     ]
    }
   ],
   "source": [
    "with resource_usage:\n",
    "    pqmx_data1 = pqmx.get_rc('DISTBIKE', otaz-1, dtaz-1, attach_index=False).to_numpy().reshape(-1).astype('float32')"
   ]
  },
  {
   "cell_type": "markdown",
   "metadata": {},
   "source": [
    "Loading this data from the arrow matrix requires barely more memory\n",
    "footprint than the loaded data itself (the array of 10 million double-precision\n",
    "floats uses 76.3 MB). We can double check that there's \n",
    "no cheating here: we actually loaded the correct data:"
   ]
  },
  {
   "cell_type": "code",
   "execution_count": 10,
   "metadata": {
    "ExecuteTime": {
     "end_time": "2020-10-27T18:50:52.694473Z",
     "start_time": "2020-10-27T18:50:52.558689Z"
    }
   },
   "outputs": [
    {
     "data": {
      "text/plain": [
       "True"
      ]
     },
     "execution_count": 10,
     "metadata": {},
     "output_type": "execute_result"
    }
   ],
   "source": [
    "all(asim_data1 == pqmx_data1)"
   ]
  },
  {
   "cell_type": "markdown",
   "metadata": {},
   "source": [
    "Well, you may say, that's nothing special.  The whole point of the \n",
    "ActivitySim skims module is to be fast, by having the necessary skims\n",
    "preloaded into RAM so they can be read from as fast as possible."
   ]
  },
  {
   "cell_type": "code",
   "execution_count": 11,
   "metadata": {
    "ExecuteTime": {
     "end_time": "2020-10-27T18:50:57.232614Z",
     "start_time": "2020-10-27T18:50:52.696033Z"
    }
   },
   "outputs": [
    {
     "name": "stdout",
     "output_type": "stream",
     "text": [
      "566 ms ± 23.4 ms per loop (mean ± std. dev. of 7 runs, 1 loop each)\n"
     ]
    }
   ],
   "source": [
    "%timeit asim_skims.get('DISTWALK').get(otaz,dtaz)"
   ]
  },
  {
   "cell_type": "markdown",
   "metadata": {},
   "source": [
    "`pqmx`: \"Hold my beer\""
   ]
  },
  {
   "cell_type": "code",
   "execution_count": 12,
   "metadata": {
    "ExecuteTime": {
     "end_time": "2020-10-27T18:50:58.997837Z",
     "start_time": "2020-10-27T18:50:57.234436Z"
    }
   },
   "outputs": [
    {
     "name": "stdout",
     "output_type": "stream",
     "text": [
      "218 ms ± 10.1 ms per loop (mean ± std. dev. of 7 runs, 1 loop each)\n"
     ]
    }
   ],
   "source": [
    "%timeit pqmx.get_rc('DISTWALK', otaz-1, dtaz-1, attach_index=False).to_numpy().reshape(-1)"
   ]
  },
  {
   "cell_type": "markdown",
   "metadata": {},
   "source": [
    "Of course, there's no free lunch. Arrow is super fast, but \n",
    "reading data from disk has a high fixed cost. In particular, \n",
    "for Parquet (as configured in this demo, at least) we need\n",
    "to read and decompress the entire source matrix data, to \n",
    "extract what we need. We can beat the \n",
    "pre-loaded ActivitySim skims when the chunk size is very large, \n",
    "but for very small chunk sizes the RAM solution is much faster. "
   ]
  },
  {
   "cell_type": "code",
   "execution_count": 13,
   "metadata": {
    "ExecuteTime": {
     "end_time": "2020-10-27T18:50:59.002476Z",
     "start_time": "2020-10-27T18:50:58.999869Z"
    }
   },
   "outputs": [],
   "source": [
    "otaz2, dtaz2 = otaz[:50], dtaz[:50]"
   ]
  },
  {
   "cell_type": "code",
   "execution_count": 14,
   "metadata": {
    "ExecuteTime": {
     "end_time": "2020-10-27T18:51:06.695696Z",
     "start_time": "2020-10-27T18:50:59.004395Z"
    }
   },
   "outputs": [
    {
     "name": "stdout",
     "output_type": "stream",
     "text": [
      "9.47 µs ± 191 ns per loop (mean ± std. dev. of 7 runs, 100000 loops each)\n"
     ]
    }
   ],
   "source": [
    "%timeit asim_skims.get('DISTWALK').get(otaz2,dtaz2)"
   ]
  },
  {
   "cell_type": "code",
   "execution_count": 15,
   "metadata": {
    "ExecuteTime": {
     "end_time": "2020-10-27T18:51:08.316411Z",
     "start_time": "2020-10-27T18:51:06.697594Z"
    }
   },
   "outputs": [
    {
     "name": "stdout",
     "output_type": "stream",
     "text": [
      "19.6 ms ± 858 µs per loop (mean ± std. dev. of 7 runs, 10 loops each)\n"
     ]
    }
   ],
   "source": [
    "%timeit pqmx.get_rc('DISTWALK', otaz2-1, dtaz2-1, attach_index=False).to_numpy().reshape(-1)"
   ]
  },
  {
   "cell_type": "markdown",
   "metadata": {},
   "source": [
    "But what if I want the speed of in-memory data, but without actually needing to allocate all that memory?"
   ]
  },
  {
   "cell_type": "markdown",
   "metadata": {},
   "source": [
    "# Feather Matrix"
   ]
  },
  {
   "cell_type": "code",
   "execution_count": 16,
   "metadata": {
    "ExecuteTime": {
     "end_time": "2020-10-27T18:51:09.456304Z",
     "start_time": "2020-10-27T18:51:08.317878Z"
    }
   },
   "outputs": [
    {
     "name": "stdout",
     "output_type": "stream",
     "text": [
      "1.08 s: Net 620 KB, Total 7.8 GB\n"
     ]
    }
   ],
   "source": [
    "with resource_usage:\n",
    "    fmx = amx.FeatherMatrix('data/mtc_full_skims_uncompressed.fmx')"
   ]
  },
  {
   "cell_type": "markdown",
   "metadata": {},
   "source": [
    "Feather is able to point to space on disk and use it like RAM.  It's not quite as fast as\n",
    "actual RAM, but these days solid state drives can get kind of close.  So, like ParquetMatrix above, \n",
    "we create the object reference almost instantly and with no overhead."
   ]
  },
  {
   "cell_type": "markdown",
   "metadata": {
    "ExecuteTime": {
     "end_time": "2020-10-23T22:22:25.363322Z",
     "start_time": "2020-10-23T22:22:25.359876Z"
    }
   },
   "source": [
    "We can contrast now the performance with loading this big chunks..."
   ]
  },
  {
   "cell_type": "code",
   "execution_count": 17,
   "metadata": {
    "ExecuteTime": {
     "end_time": "2020-10-27T18:51:11.077894Z",
     "start_time": "2020-10-27T18:51:09.458072Z"
    }
   },
   "outputs": [
    {
     "name": "stdout",
     "output_type": "stream",
     "text": [
      "200 ms ± 7.69 ms per loop (mean ± std. dev. of 7 runs, 1 loop each)\n"
     ]
    }
   ],
   "source": [
    "%timeit fmx.get_rc('DISTBIKE', otaz-1, dtaz-1, attach_index=False).to_numpy().reshape(-1)"
   ]
  },
  {
   "cell_type": "markdown",
   "metadata": {},
   "source": [
    "... and the small chuncks."
   ]
  },
  {
   "cell_type": "code",
   "execution_count": 18,
   "metadata": {
    "ExecuteTime": {
     "end_time": "2020-10-27T18:51:22.425755Z",
     "start_time": "2020-10-27T18:51:11.080041Z"
    }
   },
   "outputs": [
    {
     "name": "stdout",
     "output_type": "stream",
     "text": [
      "140 µs ± 3.25 µs per loop (mean ± std. dev. of 7 runs, 10000 loops each)\n"
     ]
    }
   ],
   "source": [
    "%timeit fmx.get_rc('DISTWALK', otaz2-1, dtaz2-1, attach_index=False).to_numpy().reshape(-1)"
   ]
  },
  {
   "cell_type": "markdown",
   "metadata": {},
   "source": [
    "Let's plot the relative speed across a variety of chunk sizes."
   ]
  },
  {
   "cell_type": "code",
   "execution_count": 19,
   "metadata": {
    "ExecuteTime": {
     "end_time": "2020-10-27T18:52:18.035854Z",
     "start_time": "2020-10-27T18:51:22.428403Z"
    }
   },
   "outputs": [],
   "source": [
    "clock = dict(asim={}, parquet={}, feather={})\n",
    "\n",
    "for j in np.logspace(1,np.log10(TEST_SIZE), 15).astype(int):\n",
    "    otaz_ = otaz[:j]\n",
    "    dtaz_ = dtaz[:j]\n",
    "    clock['asim'][j] = np.mean(\n",
    "        timing(\"asim_skims.get('DISTWALK').get(otaz_,dtaz_)\", \n",
    "               globals=globals(), repeat=3, quiet=True)\n",
    "    )\n",
    "    clock['parquet'][j] = np.mean(\n",
    "        timing(\"pqmx.get_rc('DISTWALK', otaz_-1, dtaz_-1, attach_index=False).to_numpy().reshape(-1)\", \n",
    "               globals=globals(), repeat=3, quiet=True)\n",
    "    )\n",
    "    clock['feather'][j] = np.mean(\n",
    "        timing(\"fmx.get_rc('DISTWALK', otaz_-1, dtaz_-1, attach_index=False).to_numpy().reshape(-1)\", \n",
    "               globals=globals(), repeat=3, quiet=True)\n",
    "    )\n"
   ]
  },
  {
   "cell_type": "code",
   "execution_count": 20,
   "metadata": {
    "ExecuteTime": {
     "end_time": "2020-10-27T18:52:18.882385Z",
     "start_time": "2020-10-27T18:52:18.037934Z"
    },
    "scrolled": false
   },
   "outputs": [
    {
     "data": {
      "image/png": "[encoded data removed]",
      "text/plain": [
       "<Figure size 576x396 with 1 Axes>"
      ]
     },
     "metadata": {},
     "output_type": "display_data"
    }
   ],
   "source": [
    "with plt.style.context('seaborn'):\n",
    "    ax = pd.DataFrame(clock).plot(loglog=True)\n",
    "    ax.set_xlabel(\"Number of O-D Pairs\")\n",
    "    ax.set_ylabel(\"Read Time (seconds)\\nlower is better\")"
   ]
  }
 ],
 "metadata": {
  "kernelspec": {
   "display_name": "Python 3",
   "language": "python",
   "name": "python3"
  },
  "language_info": {
   "codemirror_mode": {
    "name": "ipython",
    "version": 3
   },
   "file_extension": ".py",
   "mimetype": "text/x-python",
   "name": "python",
   "nbconvert_exporter": "python",
   "pygments_lexer": "ipython3",
   "version": "3.8.6"
  },
  "toc": {
   "base_numbering": 1,
   "nav_menu": {},
   "number_sections": true,
   "sideBar": true,
   "skip_h1_title": false,
   "title_cell": "Table of Contents",
   "title_sidebar": "Contents",
   "toc_cell": false,
   "toc_position": {},
   "toc_section_display": true,
   "toc_window_display": true
  }
 },
 "nbformat": 4,
 "nbformat_minor": 4
}
